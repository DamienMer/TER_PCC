{
 "cells": [
  {
   "cell_type": "markdown",
   "metadata": {
    "slideshow": {
     "slide_type": "slide"
    }
   },
   "source": [
    "## Rapport et affichage sur les Graphes de plus court chemin et Graphes de flot  "
   ]
  },
  {
   "cell_type": "markdown",
   "metadata": {
    "slideshow": {
     "slide_type": "skip"
    }
   },
   "source": [
    "### Rappels basiques de Jupyter :\n",
    "\n",
    "<br/> Installation (sous Linux):\n",
    "\n",
    "<br/> -Installer Miniconda\n",
    "<br/> !conda create -n [nomEnv]\n",
    "<br/> Créer un nouvel environnement Conda\n",
    "<br/> !conda activate [nomEnv]\n",
    "<br/>     Active l’environnement Conda \n",
    "<br/> !conda install [nomEnv] notebook -c QuantStack\n",
    "<br/>     Installe Notebook dans l’environnement souhaité\n",
    "<br/> !conda update jupyter_core jupyter_client\n",
    "<br/>    Met à jour\n",
    "<br/> !jupyter notebook\n",
    "<br/>    Lance le notebook dans le navigateur\n",
    "\n",
    "<br/>  Il y a plus ou moins 2 types de cellules : les cellules de texte et les cellules de code. Les cellules de textes ne produisent rien lorsqu’elles sont exécutées à la différence des cellules de code. Pour exécuter une cellule de code, il faut la sélectionner en cliquant dessus puis appuyer simultanément sur « ALT » et « ENTER ». Une variable ou un objet vit tant que le kernel n’a pas été Restart. Pour restart le kernel, sélectionner « Kernel » puis « Restart ». Il est possible d’exécuter des commandes Bash en faisant précéder la commande d’un « ! » dans une cellule de code puis en l’exécutant. Le kernel Jupyter exécute initialement du code écrit en python. Il est toutefois possible d’installer un kernel apte à exécuter un autre langage. Par exemple pour installer un kernel C++\n",
    "\n",
    "<br/> Dans le bash :\n",
    "<br/> !conda activate [nomEnv]\n",
    "<br/>    Active l’environnement Conda \n",
    "<br/> !conda install -c conda-forge xeus-cling\n",
    "<br/>    Installe xeus-cling. Xeus-cling permet d’accéder à un kernel C++\n",
    "<br/> !conda update jupyter_core jupyter_client\n",
    "<br/>    Met à jour\n",
    "<br/> !jupyter notebook\n",
    "<br/>    Lance le notebook dans le navigateur\n",
    "\n",
    "<br/> Ensuite on sélectionne « New » puis « C++17 ». Du code C++ peut ensuite être écrit et exécuté dans les cellules de codes."
   ]
  },
  {
   "cell_type": "markdown",
   "metadata": {
    "slideshow": {
     "slide_type": "skip"
    }
   },
   "source": [
    "### Mise en contexte\n",
    "\n",
    "\n",
    "Bonjour à tous.\n",
    "\n",
    "Ici ce trouve le 'Travaille d'Etude et de Recherche' (aka TER) de Damien Merret et Matthieu Robeyns.\n",
    "\n",
    "<br/> Le projet TER Jupyter Notebook a pour but de faire découvrir des nouvelles technologies aux étudiants. \n",
    "<br/> Dans cette UE, nous devions choisir un ou plusieurs algorithmes et les expliquer comme le ferait un enseignant à l’aide de Jupyter Notebook. \n",
    "<br/> Nous pouvions en réalité créer n’importe quelle sorte de programme, du moment que nous y trouvions une finalité avec Jupyter Notebook. \n",
    "\n",
    "<br/> Le sujet étant finalement très vaste, chacun était alors libre de s’orienter vers le genre d’algorithme ou de programme qu’il aimait, allant des algorithmes de parcours classiques aux jeux didactiques. Cependant, les projets ayant souvent des directions communes, il était recommandé de s’entraider au maximum les uns les autres et ce même si nous n’appartenions pas au même groupe.\n",
    "<br/> Nous avons pour notre part décidé de nous pencher sur laby (exclusivement Matthieu) ainsi que la représentation des algorithmes concernant les graphes, tout particulièrement les algorithmes de plus court chemin tels que Dijkstra, Bellman Ford et Floyd Warshall (exclusivement Damien) et de flot max avec Ford Fulkerson (exclusivement Matthieu). \n",
    "\n",
    "<br/> L’UE reposant plutôt sur l’exploration de technologie que sur l’optimisation, nous avons décidé de faire ces algorithmes en C++ alors que la partie visualisation de Jupyter était en quelque sorte optimisée pour du Pyhton. <br/> Ainsi débuta notre périple…"
   ]
  },
  {
   "cell_type": "markdown",
   "metadata": {
    "slideshow": {
     "slide_type": "skip"
    }
   },
   "source": [
    "### Motivation et Objectif\n",
    "\n",
    "Nous avons étudié les algorithmes de plus court chemin et de flots max lorsque nous étions au premier semestre de notre Mater1. Le professeur d’algorithmique avait le courage à dessiner à la craie les itérations ou des représentations des itérations de ces algorithmes.\n",
    "<br/> Nous ne pouvons expliquer comment la représentation de ses graphes était difficile à comprendre après plusieurs itérations. Heureusement que l'explication était suivie de ses indications orales nous permettons de suivre le graphe qui finissait, dans la plupart des cas, comme une représentation des couleurs de l'arc-en-ciel.\n",
    "<br/> Alors pour lui remercier pour la compression de ces notions complexes sur les graphes, nous avons eu comme vocation de lui rendre l'appareil en créant un des représentations dynamique est intelligente de graphe de flot max et PCC.\n",
    "<br/> Alors notre objectif fût simple, peut importe la manière d'afficher le graphe nous voulions le rendre visible, avec des couleurs correspondant à chaque état possible. Et laissant le choix au professeur de placer les sommets à sa guise."
   ]
  },
  {
   "cell_type": "markdown",
   "metadata": {
    "slideshow": {
     "slide_type": "slide"
    }
   },
   "source": [
    "### Etapes de Réalisation et Résultat\n",
    "\n",
    "Dans cette partie, nous allons vous guider pour afficher le graphe que vous voulez avec l'algorithme de résolution souhaité.\n",
    "Le résultat attendu est votre graphe avec un slider permettant de passer les différentes étapes de résolution du graphe.\n",
    "<br/> Si vous ne savez pas ce qu'est un graphe de Plus Court Chemin (aka PCC), lisez [ceci](https://fr.wikipedia.org/wiki/Probl%C3%A8me_de_plus_court_chemin).\n",
    "<br/> Si vous ne savez pas ce qu'est un graphe de Flot, lisez [ceci](https://fr.wikipedia.org/wiki/R%C3%A9seau_de_flot)."
   ]
  },
  {
   "cell_type": "markdown",
   "metadata": {
    "slideshow": {
     "slide_type": "slide"
    }
   },
   "source": [
    "### <u>Etape 1: Compilation des fichiers cpp</u>\n",
    "\n",
    "Puisque nous avons créé nos algorithmes et constructeur de graphe en C++, nous devons compiler les fichiers '.cpp' et tout les lier via un fichier '.so' nommé 'libGraph.so'."
   ]
  },
  {
   "cell_type": "code",
   "execution_count": 1,
   "metadata": {
    "slideshow": {
     "slide_type": "fragment"
    }
   },
   "outputs": [
    {
     "name": "stdout",
     "output_type": "stream",
     "text": [
      "rm *.so\r\n",
      "rm *.o\r\n"
     ]
    }
   ],
   "source": [
    "!make clean"
   ]
  },
  {
   "cell_type": "code",
   "execution_count": 2,
   "metadata": {
    "slideshow": {
     "slide_type": "fragment"
    }
   },
   "outputs": [
    {
     "name": "stdout",
     "output_type": "stream",
     "text": [
      "g++ -o Arete.o -fPIC -c Arete.cpp\n",
      "g++ -o Sommet.o -fPIC -c Sommet.cpp\n",
      "g++ -o Graphe.o -fPIC -c Graphe.cpp\n",
      "g++ -o Tuyau.o -fPIC -c Tuyau.cpp\n",
      "g++ -o FordFulkerson.o -fPIC -c FordFulkerson.cpp\n",
      "g++ -o CreerGraphe.o -fPIC -c CreerGraphe.cpp\n",
      "g++ -o Dijkstra.o -fPIC -c Dijkstra.cpp\n",
      "g++ -o BellmanFord.o -fPIC -c BellmanFord.cpp\n",
      "g++ -o FloydWarshall.o -fPIC -c FloydWarshall.cpp\n",
      "g++ -o Dmain.o -fPIC -c Dmain.cpp\n",
      "g++ -fPIC -shared -o libGraph.so Arete.o Sommet.o Graphe.o Tuyau.o FordFulkerson.o CreerGraphe.o Dijkstra.o BellmanFord.o FloydWarshall.o Dmain.o\n"
     ]
    }
   ],
   "source": [
    "!make"
   ]
  },
  {
   "cell_type": "markdown",
   "metadata": {
    "slideshow": {
     "slide_type": "skip"
    }
   },
   "source": [
    "### <u>Etape 2: Importer les librairies python<u/>\n",
    "\n",
    "Pour utiliser nos fonctions et algorithmes codés en C++, nous devons les faire reconnaitre par du code Python.\n",
    "<br/> Nous utiliserons Python pour l'affichage des graphes et pour sa faciliteé à dynamiser les affichage via les [Widgets](https://ipywidgets.readthedocs.io/en/latest/examples/Widget%20Basics.html).\n",
    "<br/> Nous utilisons la bibliothèque [CPPYY](https://cppyy.readthedocs.io/en/latest/) pour 'transformer' notre code C++ en code Python.\n",
    "<br/> Puis nous importons toutes les ressources du fichier [Core.py](https://gitlab.u-psud.fr/ter-graphupsud/algorithme_des_plus-courts_chemins_en_cpp/blob/master/projetTER/Core.py). Ce fichier est le coeur de notre visualisation et création de graphe en python. Il est aussi important pour la dynamisation et simplification du code ci-dessous. Cependant le fichier étant très rempli, nous vous déconseillons de vous jeter dedans sans de bonnes connaissances en python et sans lire le fichier explicatif [Explain_Core_File.txt](https://gitlab.u-psud.fr/ter-graphupsud/algorithme_des_plus-courts_chemins_en_cpp/blob/master/projetTER/Explain_Core_File.txt) (pas encore terminé à ce jour)."
   ]
  },
  {
   "cell_type": "code",
   "execution_count": 3,
   "metadata": {
    "slideshow": {
     "slide_type": "fragment"
    }
   },
   "outputs": [],
   "source": [
    "import cppyy\n",
    "from Core import *"
   ]
  },
  {
   "cell_type": "markdown",
   "metadata": {
    "slideshow": {
     "slide_type": "skip"
    }
   },
   "source": [
    "### <u>Etape 3: Vos choix</u>\n",
    "\n",
    "Dans cette étape, vous allez créer les variables dont nous avons besoin pour la création du graphe selon vos envies.\n",
    "<br/> Puis vous allez choisir entre deux méthodes de création de graphe 'Novice' ou 'Avancé'.\n",
    "<br/> Novice : Sautez l'Etape 4 et passer à l'Etape 5.\n",
    "<br/> Avancé : Exécuter l'Etape 4 et sautez l'Etape 5, soit passez à l'Etape 6.\n",
    "<br/> Pour information (et aider au débuggage si nécessaire), _type donnera le nom de l'algorithme que vous comptez utiliser. _method le typhe de graphe vous utiliserez. _som stocke sous forme de tableau les sommets que vous utiliserez (**Note:** Pour les flots, le premier sommet est la Source et le dernier lest el Puit). _tab sera le tableau de vos arêtes/tuyaux. Enfin _result est le tableau contenant les 4 variables défini juste au-dessus."
   ]
  },
  {
   "cell_type": "code",
   "execution_count": 4,
   "metadata": {
    "slideshow": {
     "slide_type": "fragment"
    }
   },
   "outputs": [],
   "source": [
    "_type,_method,_som,_tab,_result_easy=initvar()"
   ]
  },
  {
   "cell_type": "markdown",
   "metadata": {
    "slideshow": {
     "slide_type": "slide"
    }
   },
   "source": [
    "La cellule ci-dessous vous demande quel type de graphe vous voulez utiliser et quelle méthode de résolution vous voulez lui appliquer.\n",
    "<br/>**Note**: Si vous voulez les algorithmes de Graph Flot, cliquez sur 'Graph Flot' et relancer la cellule!"
   ]
  },
  {
   "cell_type": "code",
   "execution_count": 5,
   "metadata": {
    "slideshow": {
     "slide_type": "fragment"
    }
   },
   "outputs": [
    {
     "data": {
      "application/vnd.jupyter.widget-view+json": {
       "model_id": "59f64af8c90d4f96a6f1a8a71e4c731f",
       "version_major": 2,
       "version_minor": 0
      },
      "text/plain": [
       "VBox(children=(Label(value='Choose your type of graph:'), RadioButtons(options=('Graph PCC', 'Graph Flot'), va…"
      ]
     },
     "metadata": {},
     "output_type": "display_data"
    }
   ],
   "source": [
    "chooseTypeGraph()"
   ]
  },
  {
   "cell_type": "markdown",
   "metadata": {
    "slideshow": {
     "slide_type": "slide"
    }
   },
   "source": [
    "### <u>Etape 4: Création graphe - Mode Avancé</u>\n",
    "\n",
    "Dans cette étape, nous vous demandons simplement de remplir les deux variables d'une façon comme suit:\n",
    "<br/>**example : Tableaux de sommet : [0,1,2,3]**\n",
    "<br/>**example PCC : Tableaux d'arêtes (som début, som fin, poids) : [ [0,1,2] , [1,2,20] ]**\n",
    "<br/>**example Flot : Tableaux de tuyaux (som début, som fin, capacité, flot) : [ [0,1,20,0] , [1,2,10,7] ]**"
   ]
  },
  {
   "cell_type": "code",
   "execution_count": null,
   "metadata": {
    "slideshow": {
     "slide_type": "fragment"
    }
   },
   "outputs": [],
   "source": [
    "_som,_tab=Mode_confirmer()\n",
    "pro_mode(_som,_tab)"
   ]
  },
  {
   "cell_type": "markdown",
   "metadata": {
    "slideshow": {
     "slide_type": "slide"
    }
   },
   "source": [
    "### <u>Etape 5: Création graphe - Mode Novice</u>\n",
    "\n",
    "Dans cette étape vous allez devoir faire les choses suivantes :\n",
    "<br/> 1) Choisir votre nombre de Sommet pour le graphe (Astuce: vous pouvez noter au clavier le nombre là où se situe les chiffres.)\n",
    "<br/> **Attention** : Il est important de click la case 'Fini?' si vous voulez que la suite vous affiche quelque chose. (Sinon une erreur surviendra à la cellule suivante)."
   ]
  },
  {
   "cell_type": "code",
   "execution_count": 6,
   "metadata": {
    "slideshow": {
     "slide_type": "fragment"
    }
   },
   "outputs": [
    {
     "data": {
      "application/vnd.jupyter.widget-view+json": {
       "model_id": "fd755522446946f981953b06f606c860",
       "version_major": 2,
       "version_minor": 0
      },
      "text/plain": [
       "VBox(children=(Label(value='Choose your number of nodes:'), IntSlider(value=5, continuous_update=False, max=30…"
      ]
     },
     "metadata": {},
     "output_type": "display_data"
    }
   ],
   "source": [
    "EasyGraphNbNodes()"
   ]
  },
  {
   "cell_type": "markdown",
   "metadata": {
    "slideshow": {
     "slide_type": "skip"
    }
   },
   "source": [
    "2) Ici nous allons créer les arêtes/tuyaux une à une (pas le choix, mais cela évite les buggs).\n",
    "<br/> Pour ce faire nous avons 3-4 boites correspondant respectivement:\n",
    "<br/> (i) Le sommet de départ pour l'arête/tuyau\n",
    "<br/> (ii) Le sommet d'arrivé de l'arête/tuyau\n",
    "<br/> (iii) PCC : Une boîte avec la distance entre les deux sommets. Flot : Deux boîtes, l'une comportant la Capacité et l'autre le Flot.\n",
    "\n",
    "<br/> Enfin nous avons un bouton 'AddEdge' permettant d'ajouter à _tab l'arête/tuyau que vous venez de configurer avec les boîtes au-dessus. Une fois que vous aurez cliqué sur le bouton, il y aura deux secondes d'attente avant qu'il soit de nouveau cliquable (pour éviter de générer des arêtes/tuyau involontairement).\n",
    "<br/> Une fois que vous aurez fini de créer les arêtes/tuyaux, vous pourrez cliquer sur le bouton 'Finish?' afin de passer à l'étape suivante.\n",
    "<br/> **Attention:** cette action étant irréversible, une fois cliqué vous ne pourrez plus modifier les valeurs, sauf en utilisant le mode 'Avancé', et donc si vous voulez recommencer il faudra relancer le Kernel!!\n",
    "<br/> **Pour relancer le Kernel cliquer sur le bouton 'Kernel' dans votre barre d'option puis cliquer sur 'Restart & Clear Output'**"
   ]
  },
  {
   "cell_type": "code",
   "execution_count": 7,
   "metadata": {
    "slideshow": {
     "slide_type": "fragment"
    }
   },
   "outputs": [
    {
     "name": "stdout",
     "output_type": "stream",
     "text": [
      "Create your vertice:\n"
     ]
    },
    {
     "data": {
      "application/vnd.jupyter.widget-view+json": {
       "model_id": "9af6d57a93d8476ab38bc1382a162d1f",
       "version_major": 2,
       "version_minor": 0
      },
      "text/plain": [
       "VBox(children=(VBox(children=(Accordion(children=(Dropdown(options=(0, 1, 2, 3, 4, 5, 6), value=0), Dropdown(o…"
      ]
     },
     "metadata": {},
     "output_type": "display_data"
    },
    {
     "name": "stdout",
     "output_type": "stream",
     "text": [
      "[[0, 1, 20]]\n"
     ]
    }
   ],
   "source": [
    "EasyGraph(_tab)"
   ]
  },
  {
   "cell_type": "markdown",
   "metadata": {
    "slideshow": {
     "slide_type": "slide"
    }
   },
   "source": [
    "### <u>Etape 6: Gestion du graphe</u>\n",
    "\n",
    "Maintenant nous allons construire le graphe et le placer dans la variable judicieusement nommée 'graph' (en vérifiant que ce graph respecte les contraintes imposées par l'algorithme qui doit s'y exécuter). Puis nous allons afficher le graph en fonction de son type. Si c'est un graphe de Flot exécutez l'Etape 6bis sinon exécuter l'Etape 6ter."
   ]
  },
  {
   "cell_type": "code",
   "execution_count": 8,
   "metadata": {
    "slideshow": {
     "slide_type": "fragment"
    }
   },
   "outputs": [],
   "source": [
    "graph=prepreDouane(_result_easy[0],_result_easy[1],_result_easy[2],_result_easy[3])"
   ]
  },
  {
   "cell_type": "markdown",
   "metadata": {
    "slideshow": {
     "slide_type": "slide"
    }
   },
   "source": [
    "### <u>Etape 6bis: Affichage graphe de Flot</u>\n",
    "\n",
    "Ici nous créons de nouvelle variable pour la partie dynamique.\n",
    "<br/>Puis nous affichons le graphe via le 'interact'.\n",
    "<br/>**Attention:** Pour éviter de redessiner à chaque changement d'itération nous observons juste les changement et les actualisons. Cependant cette méthode à un coût, si vous déplacer trop vite le slider (soit les étapes). Le graphe ne sera plus afficher et il faudra Relancer le Kernel."
   ]
  },
  {
   "cell_type": "markdown",
   "metadata": {
    "slideshow": {
     "slide_type": "slide"
    }
   },
   "source": [
    "<br/>**Le sommet blanc est le sommet pas encore traité**\n",
    "<br/>**Le sommet jaune est le sommet traité (puisque c'est récursif nous pouvons traiter un sommet via un autre sommet)**\n",
    "<br/>**Le sommet rose est le sommet référence pour l'ajout du flot**\n",
    "<br/>**Le sommet vert est le sommet qui a été traité et terminé sur cette itération**"
   ]
  },
  {
   "cell_type": "code",
   "execution_count": null,
   "metadata": {
    "slideshow": {
     "slide_type": "fragment"
    }
   },
   "outputs": [],
   "source": [
    "resultat,graphics,_nbSommet,historic,_Substep=execute(graph,'FordFulkerson',True)"
   ]
  },
  {
   "cell_type": "code",
   "execution_count": null,
   "metadata": {
    "slideshow": {
     "slide_type": "slide"
    }
   },
   "outputs": [],
   "source": [
    "def forSliderMain(x):\n",
    "            node_data,link_data,colors=recupIterMain(x,resultat,graph,_nbSommet)\n",
    "            graphics.node_data = node_data\n",
    "            graphics.link_data = link_data\n",
    "            graphics.colors = colors\n",
    "            affichageFlot(resultat,x,node_data)\n",
    "            return Figure(marks=[graphics])\n",
    "        \n",
    "interact(forSliderMain,x=(0,len(resultat)-1))"
   ]
  },
  {
   "cell_type": "markdown",
   "metadata": {
    "slideshow": {
     "slide_type": "skip"
    }
   },
   "source": [
    "### <u>Etape 6ter: Affichage graphe PCC</u>\n",
    "\n",
    "Nous allons définir trois variables avec l'utilité suivante:\n",
    "<br/> \"algo\" exécute et stocke l’algorithme de PCC (sur le graphe créé précédemment) qui a été sélectionné par l’utilisateur.\n",
    "<br/> \"som\" représente le tableau des sommets.\n",
    "<br/> \"ar\" celui des arêtes créés par l’utilisateur.\n",
    "\n",
    "<br/> Les algorithmes de PCC fonctionnent avec un système de pages d’historique créées du côté C++. A chaque pas d’algorithme, un ensemble d’information est prélevé sur l’état du système et stocké dans une page de l’algorithme en question. A la fin de son exécution, l’algorithme possède un tableau de pages recensant ainsi sa propre exécution.\n",
    "\n",
    "<br/>Pour la partie visualisation et mise à jour de la visualisation, il faut respecter scrupuleusement certaines étapes sous peine de voir la mise à jour du graphe échouer. On commence d’abord par sauver l’ensemble des nœuds, des arêtes et des couleurs. Ensuite on modifie chacun de ses éléments (de manière absurde) afin d’être sûr qu’il y ait vraiment un changement. Puis on effectue la modification des variables précédemment sauvées en récupérant des éléments de l’historique avant de rétablir les valeurs et de réafficher le graph."
   ]
  },
  {
   "cell_type": "markdown",
   "metadata": {
    "slideshow": {
     "slide_type": "slide"
    }
   },
   "source": [
    "<br/>**Le sommet rouge est le sommet actuellement traité**\n",
    "<br/>**Le sommet vert est le voisin actuellement traité**\n",
    "<br/>**Les sommets en blanc sont les sommets actuellement non pris en compte**"
   ]
  },
  {
   "cell_type": "code",
   "execution_count": 9,
   "metadata": {
    "slideshow": {
     "slide_type": "fragment"
    }
   },
   "outputs": [
    {
     "data": {
      "application/vnd.jupyter.widget-view+json": {
       "model_id": "2ad3b575d5294e1bb6d1ae757b8b7f6b",
       "version_major": 2,
       "version_minor": 0
      },
      "text/plain": [
       "interactive(children=(IntSlider(value=0, description='x', max=2), Output()), _dom_classes=('widget-interact',)…"
      ]
     },
     "metadata": {},
     "output_type": "display_data"
    },
    {
     "data": {
      "application/vnd.jupyter.widget-view+json": {
       "model_id": "6dbe60ccf17b4b1d9ce358a5caabebe7",
       "version_major": 2,
       "version_minor": 0
      },
      "text/plain": [
       "Figure(fig_margin={'top': 60, 'bottom': 60, 'left': 60, 'right': 60}, layout=Layout(height='500px', width='960…"
      ]
     },
     "metadata": {},
     "output_type": "display_data"
    }
   ],
   "source": [
    "algo = createAlgoPcc(pcc.value, graph)\n",
    "som = createNodesPCC(graph)\n",
    "ar = createEdgesPCC(graph)\n",
    "\n",
    "def maj(x):\n",
    "    \n",
    "    ######## SAVE ########\n",
    "    node_data_save = som\n",
    "    colors_save = colors\n",
    "    link_data_save = ar\n",
    "    \n",
    "    ####### CHANGE ########\n",
    "    graphics.colors = ['black']\n",
    "    graphics.node_data = list('XXXXXXX')\n",
    "    graphics.link_data = [{'source': 1, 'target': 1}]\n",
    "    \n",
    "    ####### MODIF #########\n",
    "    creationColors = ['white'] * len(graph.getSommets())\n",
    "    creationColors[algo.getHistorique()[x].getSommetCible().getNum()] = 'green'\n",
    "    creationColors[algo.getHistorique()[x].getSommetActuel().getNum()] = 'red'\n",
    "    \n",
    "    \n",
    "    ####### RETABLIR ########\n",
    "    graphics.colors = creationColors\n",
    "    graphics.node_data = node_data_save\n",
    "    graphics.link_data = link_data_save\n",
    "    \n",
    "    displayCommentPCC(algo, x, pcc.value, som)\n",
    "\n",
    "    \n",
    "fig_layout = Layout(width='960px', height='500px')\n",
    "colors = ['white']\n",
    "\n",
    "graphics = Graph(node_data=som, highlight_links = True, link_data=ar, link_type='line', charge=-600, colors=['white'])\n",
    "\n",
    "interact(maj, x=widgets.IntSlider(min=0, max=len(algo.getHistorique())-1, step=1, value=0))\n",
    "Figure(marks=[graphics], layout=fig_layout)"
   ]
  },
  {
   "cell_type": "markdown",
   "metadata": {
    "slideshow": {
     "slide_type": "skip"
    }
   },
   "source": [
    "### Qu'avez-vous appris :\n",
    "\n",
    "<br/> 1) Le travail collaboratif : Tout au long du semestre, nous avons dû travailler en équipe. L’utilisation de Gitlab a été au centre du projet et nous avons dû apprendre à l’utiliser (bien que ce n’était pas la première introduction à git, c’était la première fois où je voyais vraiment l’intérêt de l’utiliser).\n",
    "\n",
    "<br/> 2) l’environnement conda : (Damien) Ayant passé beaucoup de temps à essayer d’installer un kernel C++ sur mon ordinateur (sous windows utilisant WSL), j’ai pu explorer en surface les différentes fonctionnalités de conda. Je me suis rendu compte que les environnement conda pouvait avoir une utilisation beaucoup plus large que je le pensais.\n",
    "(Matthieu) A contratio de mon collègue, je possédais un OS Ubuntu, et l'installation fût quand même un peu rude mais moindre que mon collègue. Le plus difficile étant la notion d'environnement à importer via le 'environnment.yml'.\n",
    "\n",
    "<br/> 3) CPPYY : Dans le contexte de notre projet d’algorithmes de graphe en C++ devant être visualisés avec BQplot et ipywidgets (python), nous avons dû apprendre à utiliser CPPYY (permet d’exécuter du code C++ à partir de Python). Grace à cette initiation (épaulé par notre responsable de TER), nous pouvons maintenant jongler, assez aisément, entre le langage Python et C++.\n",
    "\n",
    "<br/> 4) Compilation séparée : Nous nous sommes mis au clair sur la compilation séparée, la création de Makefiles et de libraries.\n",
    "\n",
    "<br/> 5) Widgets : Nous avons appris à utiliser un nouvel aspect de Python, très important au sein de Jupyter Notebook : les widgets. Ceux-ci nous ont permis de récupérer des informations transmises par l'utilisateur de façon très simple (que ce soit pour l'utilisateur ou pour le programmeur). Cela nous a aussi aidé a rendre nos affichages plus esthétiques.\n",
    "\n",
    "<br/> 6) Git : Qui dit travail collaboratif, dit Git (du moins pour la plupart des informaticiens). Alors nous avons dû mettre les pieds dans le plat et ainsi nous avons appris a créer des projets. Créer des issues (voir leçon de demain) et a créer des braches sur un projet ainsi qu'à merge nos codes.\n",
    "\n",
    "<br/> 7) RISE : Nous avons appris à utiliser les diaporamas interactives de Jupyter Notebook avec Rise. Tout fût très bien expliqué par notre professeur, nous avons juste rencontré quelques problèmes non traités par RISE mais à par ça, rien à redire.\n",
    "\n",
    "<br/> 8) Enfin, le Ter nous a permis de revoir le C++, le python ainsi que des algorithmes de graphe essentiels"
   ]
  },
  {
   "cell_type": "markdown",
   "metadata": {
    "slideshow": {
     "slide_type": "skip"
    }
   },
   "source": [
    "### Retour d'expérience : \n",
    "\n",
    "Après ce semestre, nous avons conclu plusieurs choses sur Jupyter et l'algorithmique interactive.\n",
    "<br/> 1) Jupyter Notebook donne l'accès aux widgets, une source de techniques pratiques pour un affichage intelligent et dynamique. **Cependant**, il est exclusif au langage Python, nous restreignant donc à un affichage en Python au lieu d'un autre language (comme C++).\n",
    "\n",
    "<br/>**A l'intention de nos lecteurs**:\n",
    "<br/>Nous avons réalisé que si nous voulons faire un affichage dynamique par Jupyter, Python est le langage à utiliser! Nous avons aussi remarqué qu'il était impossible de faire certaines actions pour rendre la vie plus facile à nos utilisateurs...\n",
    "<br/> En effet, en Python il est impossible de demander à l'utilisateur de rédiger nos sommets et arêtes comme nous le faisons, car toute prise de note en hors-cellule est du type String. De plus, nous voulons récupérer une 'list' d'éléments et malheureusement en castant la sortie String par 'list(sortie)' nous avons une liste qui sépare les nombres à plusieurs chiffres (remplace '33', '50' par '3','3','5','0'...).\n",
    "<br/> Nous avons aussi remarqué qu'il fallait absolument que les widgets soient les dernières lignes d'une fonction ou d'une cellule pour être affichés. Cela à rendu très ardu la tâche de factorisation de code tout en rendant invisible les parties complexes (et inutile pour l'utilisateur) du code. De même nous avons remarqué que nous sommes obligés d'afficher la fonction utilisée par l'interact, car l'interact ne prend qu'un argument (qui est le slider des itérations). Et la fonction dans l'interact a besoin de connaître le graph. **Or** nous ne pouvons pas lui renseigner puisqu'il ne peut recevoir qu'un argument à cause de l'interact. Et puisque le graphe se créer uniquement quand l'utilisateur progresse dans le code, la fonction ne peut qu'être dans les cellules...\n",
    "<br/> Ensuite nous avons rencontré des difficultés pour la récupération des étapes de résolution de nos graphes. Surtout pour la récupération de données de C++ en python. En effet tout notre code était fait en C++ à la base et nous avons pensé à utiliser des outils comme Xeus-cling pour l'affichage sur Jupyter via C++ (nous avons aussi pensé à utiliser Xplot). Ceci fût un terrible échec, alors nous avons dû nous rabattre sur Python.\n",
    "<br/> Donc pour insister sur la loufoquerie de notre projet, nous utilisons du **Python** pour créer notre graphe en **C++** et le résoudre en **C++** pour ensuite donner notre graphe à **Python** et récupérer ses itérations et pour enfin l'afficher en **Python**.\n",
    "\n",
    "<br/> Pour finir, nous pouvons parler de notre mode d'affichage via RISE qui engendre pas mal de soucis... Le plus notable étant l'affichage d'un graphe en hors écran. Celui-ci n'actualise pas le scrollbar et donc il faut retrouner une slide en arrière pour voir le scrollbar apparaître. \n",
    "<br/> L'autre soucis majeur étant, quand on change d'itération dans le graphe, RISE nous remet en haut de la diapositive alors que le graphe est en dessous..."
   ]
  },
  {
   "cell_type": "code",
   "execution_count": null,
   "metadata": {
    "slideshow": {
     "slide_type": "skip"
    }
   },
   "outputs": [],
   "source": []
  }
 ],
 "metadata": {
  "celltoolbar": "Slideshow",
  "kernelspec": {
   "display_name": "Python 3",
   "language": "python",
   "name": "python3"
  },
  "language_info": {
   "codemirror_mode": {
    "name": "ipython",
    "version": 3
   },
   "file_extension": ".py",
   "mimetype": "text/x-python",
   "name": "python",
   "nbconvert_exporter": "python",
   "pygments_lexer": "ipython3",
   "version": "3.8.1"
  }
 },
 "nbformat": 4,
 "nbformat_minor": 4
}
