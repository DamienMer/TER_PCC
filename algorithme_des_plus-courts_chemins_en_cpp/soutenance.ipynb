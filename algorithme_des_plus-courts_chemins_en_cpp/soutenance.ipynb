{
 "cells": [
  {
   "cell_type": "markdown",
   "metadata": {
    "slideshow": {
     "slide_type": "slide"
    }
   },
   "source": [
    "## Rapport et affichage sur les Graphes de plus court chemin et Graphes de flot\n",
    "\n",
    "**Author : Damien Merret & Matthieu Robeyns**\n",
    "<br/>**Date : 13 Mai 2020**\n",
    "<br/>**TER Jupyter**"
   ]
  },
  {
   "cell_type": "markdown",
   "metadata": {
    "slideshow": {
     "slide_type": "slide"
    }
   },
   "source": [
    "### Etapes de Réalisation et Résultat\n",
    "\n",
    "Dans cette partie, nous allons vous guider pour afficher le graphe que vous voulez avec l'algorithme de résolution souhaité.\n",
    "Le résultat attendu est votre graphe avec un slider permettant de passer les différentes étapes de résolution du graphe.\n",
    "<br/> Si vous ne savez pas ce qu'est un graphe de Plus Court Chemin (aka PCC), lisez [ceci](https://fr.wikipedia.org/wiki/Probl%C3%A8me_de_plus_court_chemin).\n",
    "<br/> Si vous ne savez pas ce qu'est un graphe de Flot, lisez [ceci](https://fr.wikipedia.org/wiki/R%C3%A9seau_de_flot)."
   ]
  },
  {
   "cell_type": "markdown",
   "metadata": {
    "slideshow": {
     "slide_type": "slide"
    }
   },
   "source": [
    "#### Etape 1: Compilation des fichiers cpp\n",
    "\n",
    "Puisque nous avons créé nos algorithmes et constructeur de graphe en C++, nous devons compiler les fichiers '.cpp' et tous les lier via un fichier '.so' nommé 'libGraph.so'."
   ]
  },
  {
   "cell_type": "code",
   "execution_count": 1,
   "metadata": {
    "slideshow": {
     "slide_type": "fragment"
    }
   },
   "outputs": [
    {
     "name": "stdout",
     "output_type": "stream",
     "text": [
      "make: Entering directory '/mnt/c/Users/damie/Desktop/test/algorithme_des_plus-courts_chemins_en_cpp/projetTER'\r\n",
      "rm *.so\r\n",
      "rm *.o\r\n",
      "make: Leaving directory '/mnt/c/Users/damie/Desktop/test/algorithme_des_plus-courts_chemins_en_cpp/projetTER'\r\n"
     ]
    }
   ],
   "source": [
    "!make clean -C projetTER"
   ]
  },
  {
   "cell_type": "code",
   "execution_count": 2,
   "metadata": {
    "slideshow": {
     "slide_type": "fragment"
    }
   },
   "outputs": [
    {
     "name": "stdout",
     "output_type": "stream",
     "text": [
      "make: Entering directory '/mnt/c/Users/damie/Desktop/test/algorithme_des_plus-courts_chemins_en_cpp/projetTER'\n",
      "g++ -o Arete.o -fPIC -c Arete.cpp\n",
      "g++ -o Sommet.o -fPIC -c Sommet.cpp\n",
      "g++ -o Graphe.o -fPIC -c Graphe.cpp\n",
      "g++ -o Tuyau.o -fPIC -c Tuyau.cpp\n",
      "g++ -o FordFulkerson.o -fPIC -c FordFulkerson.cpp\n",
      "g++ -o CreerGraphe.o -fPIC -c CreerGraphe.cpp\n",
      "g++ -o Dijkstra.o -fPIC -c Dijkstra.cpp\n",
      "g++ -o BellmanFord.o -fPIC -c BellmanFord.cpp\n",
      "g++ -o FloydWarshall.o -fPIC -c FloydWarshall.cpp\n",
      "g++ -o Dmain.o -fPIC -c Dmain.cpp\n",
      "g++ -fPIC -shared -o libGraph.so Arete.o Sommet.o Graphe.o Tuyau.o FordFulkerson.o CreerGraphe.o Dijkstra.o BellmanFord.o FloydWarshall.o Dmain.o\n",
      "make: Leaving directory '/mnt/c/Users/damie/Desktop/test/algorithme_des_plus-courts_chemins_en_cpp/projetTER'\n"
     ]
    }
   ],
   "source": [
    "!make -C projetTER"
   ]
  },
  {
   "cell_type": "markdown",
   "metadata": {
    "slideshow": {
     "slide_type": "slide"
    }
   },
   "source": [
    "#### Etape 2: Importer les librairies python \n",
    "\n",
    "Ici nous installons les bibliothèques utiles. Surtout [Core.py](https://gitlab.u-psud.fr/ter-graphupsud/algorithme_des_plus-courts_chemins_en_cpp/blob/master/projetTER/Core.py) qui contient toute la partie affichage du graphe et lien avec le code C++."
   ]
  },
  {
   "cell_type": "code",
   "execution_count": 3,
   "metadata": {
    "slideshow": {
     "slide_type": "fragment"
    }
   },
   "outputs": [
    {
     "name": "stdout",
     "output_type": "stream",
     "text": [
      "(Re-)building pre-compiled headers (options: -O2 -mavx); this may take a minute ...\n"
     ]
    }
   ],
   "source": [
    "import cppyy\n",
    "import sys\n",
    "sys.path.append('projetTER/')\n",
    "from Core import *"
   ]
  },
  {
   "cell_type": "markdown",
   "metadata": {
    "slideshow": {
     "slide_type": "slide"
    }
   },
   "source": [
    "#### Etape 3: Vos choix\n",
    "\n",
    "Dans cette étape, on vous demande quel type de graphe vous voulez utiliser et quelle méthode de résolution vous voulez lui appliquer.\n",
    "<br/>**Note**: Si vous voulez les algorithmes de Graph Flot, cliquez sur 'Graph Flot' et relancez la cellule!\n",
    "<br/> Puis nous allons choisir entre deux méthodes de création de graphe 'Novice' ou 'Confirmer'.\n",
    "<br/> Novice : Sautez l'Etape 4 et passer à l'Etape 5.\n",
    "<br/> Confirmer : Exécuter l'Etape 4 et sautez l'Etape 5, soit passez à l'Etape 6."
   ]
  },
  {
   "cell_type": "code",
   "execution_count": 5,
   "metadata": {
    "slideshow": {
     "slide_type": "fragment"
    }
   },
   "outputs": [
    {
     "data": {
      "application/vnd.jupyter.widget-view+json": {
       "model_id": "fcff5c532086417bb29834ffecc53f89",
       "version_major": 2,
       "version_minor": 0
      },
      "text/plain": [
       "VBox(children=(Label(value='Choose your type of graph:'), RadioButtons(options=('Graph PCC', 'Graph Flot'), va…"
      ]
     },
     "metadata": {},
     "output_type": "display_data"
    }
   ],
   "source": [
    "_type,_method,_node,_edge,_result=initvar()\n",
    "chooseTypeGraph()"
   ]
  },
  {
   "cell_type": "markdown",
   "metadata": {
    "slideshow": {
     "slide_type": "slide"
    }
   },
   "source": [
    "#### Etape 4: Création graphe - Mode Confirmé\n",
    "\n",
    "Dans cette étape nous vous demandons juste de remplir les deux variables d'une façon comme suit: \n",
    "<br/> (Ne rien écrire retournera une erreur)\n",
    "<br/> **example : Tableaux de sommets : [0,1,2,3]**\n",
    "<br/>**example PCC : Tableaux d'arêtes/tuyaux : [ [0,1,2] , [1,2,20] , [1,3,30] , [0,2,10] , [2,3,25] ]**\n",
    "<br/>**example Flot : Tableaux d'arêtes/tuyaux : [ [0,1,20,0] , [1,2,20,0] , [2,3,50,0],[1,3,9,0]]**"
   ]
  },
  {
   "cell_type": "code",
   "execution_count": 5,
   "metadata": {
    "slideshow": {
     "slide_type": "fragment"
    }
   },
   "outputs": [
    {
     "ename": "NameError",
     "evalue": "name 'Mode_confirmer' is not defined",
     "output_type": "error",
     "traceback": [
      "\u001b[0;31m---------------------------------------------------------------------------\u001b[0m",
      "\u001b[0;31mNameError\u001b[0m                                 Traceback (most recent call last)",
      "\u001b[0;32m<ipython-input-5-ab94aba5241c>\u001b[0m in \u001b[0;36m<module>\u001b[0;34m\u001b[0m\n\u001b[0;32m----> 1\u001b[0;31m \u001b[0m_node\u001b[0m\u001b[0;34m,\u001b[0m\u001b[0m_edge\u001b[0m\u001b[0;34m=\u001b[0m\u001b[0mMode_confirmer\u001b[0m\u001b[0;34m(\u001b[0m\u001b[0;34m)\u001b[0m\u001b[0;34m\u001b[0m\u001b[0;34m\u001b[0m\u001b[0m\n\u001b[0m\u001b[1;32m      2\u001b[0m \u001b[0mpro_mode\u001b[0m\u001b[0;34m(\u001b[0m\u001b[0m_node\u001b[0m\u001b[0;34m,\u001b[0m\u001b[0m_edge\u001b[0m\u001b[0;34m)\u001b[0m\u001b[0;34m\u001b[0m\u001b[0;34m\u001b[0m\u001b[0m\n",
      "\u001b[0;31mNameError\u001b[0m: name 'Mode_confirmer' is not defined"
     ]
    }
   ],
   "source": [
    "_node,_edge=Mode_confirmer()\n",
    "pro_mode(_node,_edge)"
   ]
  },
  {
   "cell_type": "markdown",
   "metadata": {
    "slideshow": {
     "slide_type": "slide"
    }
   },
   "source": [
    "#### Etape 5: Création graphe - Mode Novice\n",
    "\n",
    "Dans cette étape vous allez devoir faire les choses suivantes :\n",
    "<br/> 1) Choisir votre nombre de Sommet pour le graphe (Astuce: vous pouvez noter au clavier le nombre là où se situe les chiffres.)\n",
    "<br/> **Attention** : Il est important de cliquer sur la case 'Fini?' si vous voulez que la suite vous affiche quelque chose. (Sinon une erreur surviendra à la cellule suivante)."
   ]
  },
  {
   "cell_type": "code",
   "execution_count": 6,
   "metadata": {
    "slideshow": {
     "slide_type": "fragment"
    }
   },
   "outputs": [
    {
     "data": {
      "application/vnd.jupyter.widget-view+json": {
       "model_id": "8781f85fb7a84c758cf810e948e08e3b",
       "version_major": 2,
       "version_minor": 0
      },
      "text/plain": [
       "VBox(children=(Label(value='Choose your number of nodes:'), IntSlider(value=5, continuous_update=False, max=30…"
      ]
     },
     "metadata": {},
     "output_type": "display_data"
    }
   ],
   "source": [
    "EasyGraphNbNodes()"
   ]
  },
  {
   "cell_type": "markdown",
   "metadata": {
    "slideshow": {
     "slide_type": "slide"
    }
   },
   "source": [
    "<br/>2) Ici nous allons créer les arêtes/tuyaux une à une (pas le choix, mais cela évite les buggs).\n",
    "<br/> Pour ce faire nous avons 3-4 boites correspondant respectivement:\n",
    "<br/> (i) Le sommet de départ pour l'arête/tuyau\n",
    "<br/> (ii) Le sommet d'arrivée de l'arête/tuyau\n",
    "<br/> (iii) PCC : Une boîte avec la distance entre les deux sommets. Flot : Deux boîtes, l'une comportant la Capacité et l'autre le Flot."
   ]
  },
  {
   "cell_type": "code",
   "execution_count": 7,
   "metadata": {
    "slideshow": {
     "slide_type": "fragment"
    }
   },
   "outputs": [
    {
     "name": "stdout",
     "output_type": "stream",
     "text": [
      "Create your edge:\n"
     ]
    },
    {
     "data": {
      "application/vnd.jupyter.widget-view+json": {
       "model_id": "694a2949e545442da05f6e3aa3285017",
       "version_major": 2,
       "version_minor": 0
      },
      "text/plain": [
       "VBox(children=(VBox(children=(Accordion(children=(Dropdown(options=(0, 1, 2, 3, 4), value=0), Dropdown(options…"
      ]
     },
     "metadata": {},
     "output_type": "display_data"
    },
    {
     "name": "stdout",
     "output_type": "stream",
     "text": [
      "[[0, 1, 30]]\n",
      "[[0, 1, 30], [3, 1, 41]]\n",
      "[[0, 1, 30], [3, 1, 41], [1, 4, 7]]\n",
      "[[0, 1, 30], [3, 1, 41], [1, 4, 7], [1, 2, 16]]\n"
     ]
    }
   ],
   "source": [
    "EasyGraph(_edge)"
   ]
  },
  {
   "cell_type": "markdown",
   "metadata": {
    "slideshow": {
     "slide_type": "slide"
    }
   },
   "source": [
    "#### Etape 6: Gestion du graphe \n",
    "\n",
    "Maintenant nous allons construire le graphe dans la variable judicieusement nommée 'graph' (en vérifiant si celui-ci respecte les contraintes imposées par un graphe de son type). Puis vous allez afficher le graph en fonction de son type. Si c'est un graphe de Flot exécutez l'Etape 6bis sinon exécutez l'Etape 6ter."
   ]
  },
  {
   "cell_type": "code",
   "execution_count": 8,
   "metadata": {
    "slideshow": {
     "slide_type": "fragment"
    }
   },
   "outputs": [],
   "source": [
    "graph=prepreDouane(_result[0],_result[1],_result[2],_result[3])"
   ]
  },
  {
   "cell_type": "markdown",
   "metadata": {
    "slideshow": {
     "slide_type": "slide"
    }
   },
   "source": [
    "#### Etape 6bis: Affichage graphe de Flot\n",
    "\n",
    "Ici nous créons de nouvelles variables pour la partie dynamique.\n",
    "<br/>Puis nous affichons le graphe via le 'interact'.\n",
    "<br/>**Attention:** Pour éviter de redessiner à chaque changement d'itération nous observons juste les changements et les actualisons. Cependant cette méthode a un coût, si vous déplacez trop vite le slider (soit les étapes). Le graphe ne sera plus affiché et il faudra Relancer le Kernel."
   ]
  },
  {
   "cell_type": "markdown",
   "metadata": {
    "slideshow": {
     "slide_type": "slide"
    }
   },
   "source": [
    "<br/>**Le sommet blanc est le sommet pas encore traité**\n",
    "<br/>**Le sommet jaune est le sommet traité (puisque c'est récursif nous pouvons traiter un sommet via un autre sommet)**\n",
    "<br/>**Le sommet rose est le sommet référence pour l'ajout du flot**\n",
    "<br/>**Le sommet vert est le sommet qui a été traité et terminé sur cette itération**"
   ]
  },
  {
   "cell_type": "code",
   "execution_count": null,
   "metadata": {
    "slideshow": {
     "slide_type": "fragment"
    }
   },
   "outputs": [],
   "source": [
    "resultat,graphics,_nbSommet,historic,_Substep=execute(graph,'FordFulkerson',True)"
   ]
  },
  {
   "cell_type": "code",
   "execution_count": null,
   "metadata": {
    "slideshow": {
     "slide_type": "slide"
    }
   },
   "outputs": [],
   "source": [
    "def forSliderMain(x):\n",
    "            node_data,link_data,colors=recupIterMain(x,resultat,graph,_nbSommet)\n",
    "            graphics.node_data = node_data\n",
    "            graphics.link_data = link_data\n",
    "            graphics.colors = colors\n",
    "            affichageFlot(resultat,x,node_data)\n",
    "            legendFlot()\n",
    "            return Figure(marks=[graphics])\n",
    "        \n",
    "interact(forSliderMain,x=(0,len(resultat)-1))"
   ]
  },
  {
   "cell_type": "markdown",
   "metadata": {
    "slideshow": {
     "slide_type": "slide"
    }
   },
   "source": [
    "#### Etape 6ter: Affichage graphe PCC\n",
    "\n",
    "Nous allons définir trois variables avec leur utilité suivante:\n",
    "<br/> algo exécute et stocke l’algorithme de PCC (sur le graphe créé précédemment) qui a été sélectionné par l’utilisateur.\n",
    "<br/> som représente le tableau des sommets.\n",
    "<br/> ar celui des arêtes créées par l’utilisateur."
   ]
  },
  {
   "cell_type": "markdown",
   "metadata": {
    "slideshow": {
     "slide_type": "slide"
    }
   },
   "source": [
    "<br/>**Le sommet rouge est le sommet actuellement traité**\n",
    "<br/>**Le sommet vert est le voisin actuellement traité**\n",
    "<br/>**Les sommets en blanc sont les sommets actuellement non pris en compte**"
   ]
  },
  {
   "cell_type": "code",
   "execution_count": 9,
   "metadata": {
    "slideshow": {
     "slide_type": "fragment"
    }
   },
   "outputs": [
    {
     "data": {
      "application/vnd.jupyter.widget-view+json": {
       "model_id": "dca21fe07023420db37a0950afc670af",
       "version_major": 2,
       "version_minor": 0
      },
      "text/plain": [
       "interactive(children=(IntSlider(value=0, description='x', max=4), Output()), _dom_classes=('widget-interact',)…"
      ]
     },
     "metadata": {},
     "output_type": "display_data"
    },
    {
     "data": {
      "application/vnd.jupyter.widget-view+json": {
       "model_id": "d8fc41bacb8e4aaa89c5b81e1c641063",
       "version_major": 2,
       "version_minor": 0
      },
      "text/plain": [
       "Figure(fig_margin={'top': 60, 'bottom': 60, 'left': 60, 'right': 60}, layout=Layout(height='500px', width='960…"
      ]
     },
     "metadata": {},
     "output_type": "display_data"
    }
   ],
   "source": [
    "algo = createAlgoPcc(pcc.value, graph)\n",
    "som = createNodesPCC(graph)\n",
    "ar = createEdgesPCC(graph)\n",
    "\n",
    "def maj(x):\n",
    "    \n",
    "    ######## SAVE ########\n",
    "    node_data_save = som\n",
    "    colors_save = colors\n",
    "    link_data_save = ar\n",
    "    \n",
    "    ####### CHANGE ########\n",
    "    graphics.colors = ['black']\n",
    "    graphics.node_data = list('XXXXXXX')\n",
    "    graphics.link_data = [{'source': 1, 'target': 1}]\n",
    "    \n",
    "    ####### MODIF #########\n",
    "    creationColors = modifColor(graph, algo, pcc.value, x)    \n",
    "    \n",
    "    ####### RETABLIR ########\n",
    "    graphics.colors = creationColors\n",
    "    graphics.node_data = node_data_save\n",
    "    graphics.link_data = link_data_save\n",
    "    \n",
    "    displayCommentPCC(algo, x, pcc.value, som)\n",
    "\n",
    "    \n",
    "fig_layout = Layout(width='960px', height='500px')\n",
    "colors = ['white']\n",
    "\n",
    "graphics = Graph(node_data=som, highlight_links = True, link_data=ar, link_type='line', charge=-600, colors=['white'])\n",
    "\n",
    "interact(maj, x=widgets.IntSlider(min=0, max=len(algo.getHistorique())-1, step=1, value=0))\n",
    "Figure(marks=[graphics], layout=fig_layout)"
   ]
  },
  {
   "cell_type": "code",
   "execution_count": null,
   "metadata": {
    "slideshow": {
     "slide_type": "slide"
    }
   },
   "outputs": [],
   "source": [
    "cx = []\n",
    "cy = []\n",
    "\n",
    "def print_event(self, target):\n",
    "    global cx\n",
    "    global cy\n",
    "    print(\"position enregistrée\")\n",
    "\n",
    "    cx.append(target['data']['x'])\n",
    "    cy.append(target['data']['y'])\n",
    "\n",
    "graphics.selected\n",
    "graphics.on_element_click(print_event)"
   ]
  },
  {
   "cell_type": "code",
   "execution_count": null,
   "metadata": {
    "slideshow": {
     "slide_type": "slide"
    }
   },
   "outputs": [],
   "source": [
    "node_data = som\n",
    "link_data = ar\n",
    "\n",
    "c=[]\n",
    "for i in range(len(cy)):\n",
    "    global c\n",
    "    c.append(500-cy[i])\n",
    "\n",
    "if(len(cx) < len(node_data)):\n",
    "    print(\"ATTENTION :\\nN'oubliez pas d'enregistrer les positions en cliquant sur chaque sommet du graphe mobile.\\nVérifiez bien qu'il est écrit 'position enregistrée' en dessous du graphe lors de chaque clic.\\nVous devez avoir autant de message que de sommets sur le graphe mobile\\nRéactualisez ensuite cette cellule. Merci.\")\n",
    "elif(len(cx) > len(node_data)):\n",
    "    print(\"ATTENTION :\\nTrop de sommets ont été sélectionnés.\\nVeuillez réinitialiser la cellule précédente (shift+enter), puis resélectionner tous les sommets.\\nRéactualisez ensuite cette cellule. Merci.\")\n",
    "\n",
    "graphics = Graph(node_data=node_data, link_data=link_data, link_type='line',\n",
    "              colors=['orange'], directed=True, \n",
    "              scales={'x': LinearScale(), 'y': LinearScale(), 'link_color': ColorScale(scheme='Greens')}, \n",
    "              x=cx, y=c, color=np.random.rand(7))\n",
    "\n",
    "interact(maj, x=widgets.IntSlider(min=0, max=len(algo.getHistorique())-1, step=1, value=0))\n",
    "Figure(marks=[graphics], layout=fig_layout)\n"
   ]
  },
  {
   "cell_type": "code",
   "execution_count": null,
   "metadata": {
    "slideshow": {
     "slide_type": "skip"
    }
   },
   "outputs": [],
   "source": []
  }
 ],
 "metadata": {
  "celltoolbar": "Slideshow",
  "kernelspec": {
   "display_name": "Python 3",
   "language": "python",
   "name": "python3"
  },
  "language_info": {
   "codemirror_mode": {
    "name": "ipython",
    "version": 3
   },
   "file_extension": ".py",
   "mimetype": "text/x-python",
   "name": "python",
   "nbconvert_exporter": "python",
   "pygments_lexer": "ipython3",
   "version": "3.9.1"
  }
 },
 "nbformat": 4,
 "nbformat_minor": 4
}
