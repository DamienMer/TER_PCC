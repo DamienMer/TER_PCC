{
 "cells": [
  {
   "cell_type": "markdown",
   "metadata": {
    "slideshow": {
     "slide_type": "slide"
    }
   },
   "source": [
    "## FordFulkerson Display\n",
    "\n",
    "Here is the page to create a flood graph and to maximize its flood with the algorithm [FordFulkerson](https://en.wikipedia.org/wiki/Ford%E2%80%93Fulkerson_algorithm).\n",
    "\n",
    "Our algorithm is in cpp (right [here](https://gitlab.u-psud.fr/ter-graphupsud/algorithme_des_plus-courts_chemins_en_cpp/tree/master/projetTER)). And our display is in python.\n",
    "To link them, we use library [CPPYY](https://cppyy.readthedocs.io/en/latest/).\n",
    "\n",
    "If you want to understand how we generate the graph look at this file: [Core.py](https://gitlab.u-psud.fr/ter-graphupsud/algorithme_des_plus-courts_chemins_en_cpp/blob/master/projetTER/Core.py)."
   ]
  },
  {
   "cell_type": "markdown",
   "metadata": {
    "slideshow": {
     "slide_type": "slide"
    }
   },
   "source": [
    "### Step 1 : Compile cpp files with Makefile\n",
    "To use cpp files, we need to compile them with \"!make\" but to avoid any problem, we recommend to execute cell below, \"!make clean\"."
   ]
  },
  {
   "cell_type": "code",
   "execution_count": 1,
   "metadata": {
    "slideshow": {
     "slide_type": "fragment"
    }
   },
   "outputs": [
    {
     "name": "stdout",
     "output_type": "stream",
     "text": [
      "rm *.so\n",
      "rm *.o\n"
     ]
    }
   ],
   "source": [
    "!make clean"
   ]
  },
  {
   "cell_type": "code",
   "execution_count": 2,
   "metadata": {
    "slideshow": {
     "slide_type": "fragment"
    }
   },
   "outputs": [
    {
     "name": "stdout",
     "output_type": "stream",
     "text": [
      "g++ -o Arete.o -fPIC -c Arete.cpp\n",
      "g++ -o Sommet.o -fPIC -c Sommet.cpp\n",
      "g++ -o Graphe.o -fPIC -c Graphe.cpp\n",
      "g++ -o Tuyau.o -fPIC -c Tuyau.cpp\n",
      "g++ -o FordFulkerson.o -fPIC -c FordFulkerson.cpp\n",
      "g++ -o CreerGraphe.o -fPIC -c CreerGraphe.cpp\n",
      "g++ -o Dijkstra.o -fPIC -c Dijkstra.cpp\n",
      "g++ -o BellmanFord.o -fPIC -c BellmanFord.cpp\n",
      "g++ -o FloydWarshall.o -fPIC -c FloydWarshall.cpp\n",
      "g++ -o Dmain.o -fPIC -c Dmain.cpp\n",
      "g++ -fPIC -shared -o libGraph.so Arete.o Sommet.o Graphe.o Tuyau.o FordFulkerson.o CreerGraphe.o Dijkstra.o BellmanFord.o FloydWarshall.o Dmain.o\n"
     ]
    }
   ],
   "source": [
    "!make"
   ]
  },
  {
   "cell_type": "markdown",
   "metadata": {
    "slideshow": {
     "slide_type": "slide"
    }
   },
   "source": [
    "### Step 2: Install Python module\n",
    "Install module to generate graph and read file in cpp."
   ]
  },
  {
   "cell_type": "code",
   "execution_count": 3,
   "metadata": {
    "slideshow": {
     "slide_type": "fragment"
    }
   },
   "outputs": [],
   "source": [
    "import cppyy\n",
    "from Core import *"
   ]
  },
  {
   "cell_type": "markdown",
   "metadata": {
    "slideshow": {
     "slide_type": "slide"
    }
   },
   "source": [
    "### Step 3 : Generate your graph and result"
   ]
  },
  {
   "cell_type": "code",
   "execution_count": 4,
   "metadata": {
    "scrolled": false,
    "slideshow": {
     "slide_type": "fragment"
    }
   },
   "outputs": [],
   "source": [
    "# Create a sample graph we have create before.\n",
    "g = cppyy.gbl.exampleGraph()\n",
    "\n",
    "resultat,graphics,_nbSommet,historic,_Substep=execute(g,'FordFulkerson')"
   ]
  },
  {
   "cell_type": "markdown",
   "metadata": {
    "slideshow": {
     "slide_type": "slide"
    }
   },
   "source": [
    "### Step 4 : Show the graph"
   ]
  },
  {
   "cell_type": "code",
   "execution_count": 5,
   "metadata": {
    "slideshow": {
     "slide_type": "slide"
    }
   },
   "outputs": [
    {
     "data": {
      "application/vnd.jupyter.widget-view+json": {
       "model_id": "e3e92d437164458bb30bb5967066cac3",
       "version_major": 2,
       "version_minor": 0
      },
      "text/plain": [
       "interactive(children=(IntSlider(value=20, description='x', max=40), Output()), _dom_classes=('widget-interact'…"
      ]
     },
     "metadata": {},
     "output_type": "display_data"
    },
    {
     "data": {
      "text/plain": [
       "<function __main__.forSliderMain(x)>"
      ]
     },
     "execution_count": 5,
     "metadata": {},
     "output_type": "execute_result"
    }
   ],
   "source": [
    "def forSliderMain(x):\n",
    "            node_data,link_data,colors=recupIterMain(x,resultat,g,_nbSommet)\n",
    "            #print(node_data)\n",
    "            graphics.node_data = node_data\n",
    "            graphics.link_data = link_data\n",
    "            graphics.colors = colors\n",
    "            affichageFlot(resultat,x,node_data)\n",
    "            return Figure(marks=[graphics])\n",
    "        \n",
    "interact(forSliderMain,x=(0,len(resultat)-1))"
   ]
  },
  {
   "cell_type": "markdown",
   "metadata": {
    "slideshow": {
     "slide_type": "skip"
    }
   },
   "source": [
    "### Report :\n",
    "\n",
    "If you ask something about our project, please send a issue in this [page](https://gitlab.u-psud.fr/ter-graphupsud/algorithme_des_plus-courts_chemins_en_cpp)."
   ]
  },
  {
   "cell_type": "code",
   "execution_count": null,
   "metadata": {
    "slideshow": {
     "slide_type": "skip"
    }
   },
   "outputs": [],
   "source": []
  }
 ],
 "metadata": {
  "celltoolbar": "Slideshow",
  "kernelspec": {
   "display_name": "Python 3",
   "language": "python",
   "name": "python3"
  },
  "language_info": {
   "codemirror_mode": {
    "name": "ipython",
    "version": 3
   },
   "file_extension": ".py",
   "mimetype": "text/x-python",
   "name": "python",
   "nbconvert_exporter": "python",
   "pygments_lexer": "ipython3",
   "version": "3.8.1"
  }
 },
 "nbformat": 4,
 "nbformat_minor": 4
}
