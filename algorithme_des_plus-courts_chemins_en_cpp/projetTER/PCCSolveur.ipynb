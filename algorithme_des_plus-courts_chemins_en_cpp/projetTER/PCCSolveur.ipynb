{
 "cells": [
  {
   "cell_type": "markdown",
   "metadata": {},
   "source": [
    "Bonjour bienvenue dans le CPP solver"
   ]
  },
  {
   "cell_type": "code",
   "execution_count": 1,
   "metadata": {
    "scrolled": true
   },
   "outputs": [
    {
     "name": "stdout",
     "output_type": "stream",
     "text": [
      "(Re-)building pre-compiled headers (options: -O2 -mavx); this may take a minute ...\n"
     ]
    },
    {
     "name": "stderr",
     "output_type": "stream",
     "text": [
      "/home/damien/miniconda3/envs/env1/lib/python3.9/site-packages/cppyy_backend/loader.py:113: UserWarning: No precompiled header available (failed to build); this may impact performance.\n",
      "  warnings.warn('No precompiled header available (%s); this may impact performance.' % msg)\n"
     ]
    },
    {
     "ename": "AttributeError",
     "evalue": "<namespace cppyy.gbl at 0x7ffff1a1b370> has no attribute 'gSystem'. Full details:\n  type object '' has no attribute 'gSystem'\n  'gSystem' is not a known C++ class\n  'gSystem' is not a known C++ template\n  'gSystem' is not a known C++ enum",
     "output_type": "error",
     "traceback": [
      "\u001b[0;31m---------------------------------------------------------------------------\u001b[0m",
      "\u001b[0;31mAttributeError\u001b[0m                            Traceback (most recent call last)",
      "\u001b[0;32m<ipython-input-1-bd52648345a2>\u001b[0m in \u001b[0;36m<module>\u001b[0;34m\u001b[0m\n\u001b[0;32m----> 1\u001b[0;31m \u001b[0;32mimport\u001b[0m \u001b[0mcppyy\u001b[0m\u001b[0;34m\u001b[0m\u001b[0;34m\u001b[0m\u001b[0m\n\u001b[0m\u001b[1;32m      2\u001b[0m \u001b[0;32mimport\u001b[0m \u001b[0mnumpy\u001b[0m \u001b[0;32mas\u001b[0m \u001b[0mnp\u001b[0m\u001b[0;34m\u001b[0m\u001b[0;34m\u001b[0m\u001b[0m\n\u001b[1;32m      3\u001b[0m \u001b[0;32mimport\u001b[0m \u001b[0mctypes\u001b[0m\u001b[0;34m\u001b[0m\u001b[0;34m\u001b[0m\u001b[0m\n\u001b[1;32m      4\u001b[0m \u001b[0;32mfrom\u001b[0m \u001b[0mbqplot\u001b[0m \u001b[0;32mimport\u001b[0m \u001b[0mGraph\u001b[0m\u001b[0;34m,\u001b[0m \u001b[0mLinearScale\u001b[0m\u001b[0;34m,\u001b[0m \u001b[0mColorScale\u001b[0m\u001b[0;34m,\u001b[0m \u001b[0mFigure\u001b[0m\u001b[0;34m,\u001b[0m \u001b[0mTooltip\u001b[0m\u001b[0;34m\u001b[0m\u001b[0;34m\u001b[0m\u001b[0m\n\u001b[1;32m      5\u001b[0m \u001b[0;32mfrom\u001b[0m \u001b[0mipywidgets\u001b[0m \u001b[0;32mimport\u001b[0m \u001b[0mHBox\u001b[0m\u001b[0;34m,\u001b[0m\u001b[0mLabel\u001b[0m\u001b[0;34m,\u001b[0m\u001b[0mIntSlider\u001b[0m\u001b[0;34m,\u001b[0m\u001b[0mButton\u001b[0m\u001b[0;34m,\u001b[0m\u001b[0mLayout\u001b[0m\u001b[0;34m,\u001b[0m\u001b[0minteract\u001b[0m\u001b[0;34m,\u001b[0m\u001b[0mdlink\u001b[0m\u001b[0;34m,\u001b[0m\u001b[0minteractive\u001b[0m\u001b[0;34m,\u001b[0m \u001b[0mfixed\u001b[0m\u001b[0;34m\u001b[0m\u001b[0;34m\u001b[0m\u001b[0m\n",
      "\u001b[0;32m~/miniconda3/envs/env1/lib/python3.9/site-packages/cppyy/__init__.py\u001b[0m in \u001b[0;36m<module>\u001b[0;34m\u001b[0m\n\u001b[1;32m     99\u001b[0m     \u001b[0;32mexcept\u001b[0m \u001b[0mIOError\u001b[0m\u001b[0;34m:\u001b[0m\u001b[0;34m\u001b[0m\u001b[0;34m\u001b[0m\u001b[0m\n\u001b[1;32m    100\u001b[0m         \u001b[0;32mpass\u001b[0m\u001b[0;34m\u001b[0m\u001b[0;34m\u001b[0m\u001b[0m\n\u001b[0;32m--> 101\u001b[0;31m \u001b[0madd_default_paths\u001b[0m\u001b[0;34m(\u001b[0m\u001b[0;34m)\u001b[0m\u001b[0;34m\u001b[0m\u001b[0;34m\u001b[0m\u001b[0m\n\u001b[0m\u001b[1;32m    102\u001b[0m \u001b[0;32mdel\u001b[0m \u001b[0madd_default_paths\u001b[0m\u001b[0;34m\u001b[0m\u001b[0;34m\u001b[0m\u001b[0m\n\u001b[1;32m    103\u001b[0m \u001b[0;34m\u001b[0m\u001b[0m\n",
      "\u001b[0;32m~/miniconda3/envs/env1/lib/python3.9/site-packages/cppyy/__init__.py\u001b[0m in \u001b[0;36madd_default_paths\u001b[0;34m()\u001b[0m\n\u001b[1;32m     76\u001b[0m \u001b[0;31m#- add to the dynamic path as needed -----------------------------------------\u001b[0m\u001b[0;34m\u001b[0m\u001b[0;34m\u001b[0m\u001b[0;34m\u001b[0m\u001b[0m\n\u001b[1;32m     77\u001b[0m \u001b[0;32mdef\u001b[0m \u001b[0madd_default_paths\u001b[0m\u001b[0;34m(\u001b[0m\u001b[0;34m)\u001b[0m\u001b[0;34m:\u001b[0m\u001b[0;34m\u001b[0m\u001b[0;34m\u001b[0m\u001b[0m\n\u001b[0;32m---> 78\u001b[0;31m     \u001b[0mgSystem\u001b[0m \u001b[0;34m=\u001b[0m \u001b[0mgbl\u001b[0m\u001b[0;34m.\u001b[0m\u001b[0mgSystem\u001b[0m\u001b[0;34m\u001b[0m\u001b[0;34m\u001b[0m\u001b[0m\n\u001b[0m\u001b[1;32m     79\u001b[0m     \u001b[0;32mif\u001b[0m \u001b[0mos\u001b[0m\u001b[0;34m.\u001b[0m\u001b[0mgetenv\u001b[0m\u001b[0;34m(\u001b[0m\u001b[0;34m'CONDA_PREFIX'\u001b[0m\u001b[0;34m)\u001b[0m\u001b[0;34m:\u001b[0m\u001b[0;34m\u001b[0m\u001b[0;34m\u001b[0m\u001b[0m\n\u001b[1;32m     80\u001b[0m       \u001b[0;31m# MacOS, Linux\u001b[0m\u001b[0;34m\u001b[0m\u001b[0;34m\u001b[0m\u001b[0;34m\u001b[0m\u001b[0m\n",
      "\u001b[0;31mAttributeError\u001b[0m: <namespace cppyy.gbl at 0x7ffff1a1b370> has no attribute 'gSystem'. Full details:\n  type object '' has no attribute 'gSystem'\n  'gSystem' is not a known C++ class\n  'gSystem' is not a known C++ template\n  'gSystem' is not a known C++ enum"
     ]
    }
   ],
   "source": [
    "import cppyy\n",
    "import numpy as np\n",
    "import ctypes\n",
    "from bqplot import Graph, LinearScale, ColorScale, Figure, Tooltip\n",
    "from ipywidgets import HBox,Label,IntSlider,Button,Layout,interact,dlink,interactive, fixed\n",
    "from string import ascii_uppercase\n",
    "\n",
    "import ipywidgets as widgets"
   ]
  },
  {
   "cell_type": "code",
   "execution_count": 2,
   "metadata": {},
   "outputs": [
    {
     "name": "stdout",
     "output_type": "stream",
     "text": [
      "rm *.so\r\n",
      "rm *.o\r\n"
     ]
    }
   ],
   "source": [
    "!make clean"
   ]
  },
  {
   "cell_type": "code",
   "execution_count": 3,
   "metadata": {},
   "outputs": [
    {
     "name": "stdout",
     "output_type": "stream",
     "text": [
      "g++ -o Arete.o -fPIC -c Arete.cpp\n",
      "g++ -o Sommet.o -fPIC -c Sommet.cpp\n",
      "g++ -o Graphe.o -fPIC -c Graphe.cpp\n",
      "g++ -o Tuyau.o -fPIC -c Tuyau.cpp\n",
      "g++ -o FordFulkerson.o -fPIC -c FordFulkerson.cpp\n",
      "g++ -o CreerGraphe.o -fPIC -c CreerGraphe.cpp\n",
      "g++ -o Dijkstra.o -fPIC -c Dijkstra.cpp\n",
      "g++ -o BellmanFord.o -fPIC -c BellmanFord.cpp\n",
      "g++ -o FloydWarshall.o -fPIC -c FloydWarshall.cpp\n",
      "g++ -o Dmain.o -fPIC -c Dmain.cpp\n",
      "g++ -fPIC -shared -o libGraph.so Arete.o Sommet.o Graphe.o Tuyau.o FordFulkerson.o CreerGraphe.o Dijkstra.o BellmanFord.o FloydWarshall.o Dmain.o\n"
     ]
    }
   ],
   "source": [
    "!make"
   ]
  },
  {
   "cell_type": "code",
   "execution_count": 4,
   "metadata": {},
   "outputs": [],
   "source": [
    "cppyy.include(\"features.h\")\n",
    "from Core import *"
   ]
  },
  {
   "cell_type": "code",
   "execution_count": 5,
   "metadata": {},
   "outputs": [],
   "source": [
    "cppyy.load_library(\"libGraph\")\n",
    "#cppyy.load_library(\"libArete\")\n",
    "#cppyy.load_library(\"libSommet\")\n",
    "#cppyy.load_library(\"libGraphe\")\n",
    "#cppyy.load_library(\"libTuyau\")\n",
    "#cppyy.load_library(\"libFordFulkerson\")\n",
    "#cppyy.load_library(\"libCreerGraphe\")\n",
    "\n",
    "#cppyy.load_library(\"libDijkstra\")\n",
    "#cppyy.load_library(\"libBellmanFord\")\n",
    "#cppyy.load_library(\"libFloydWarshall\")\n",
    "#cppyy.load_library(\"libDmain\")"
   ]
  },
  {
   "cell_type": "code",
   "execution_count": 6,
   "metadata": {
    "scrolled": false
   },
   "outputs": [
    {
     "data": {
      "application/vnd.jupyter.widget-view+json": {
       "model_id": "aacf2cc022c04bedb952e1181eea1179",
       "version_major": 2,
       "version_minor": 0
      },
      "text/plain": [
       "interactive(children=(IntSlider(value=0, description='x', max=37), Output()), _dom_classes=('widget-interact',…"
      ]
     },
     "metadata": {},
     "output_type": "display_data"
    },
    {
     "data": {
      "application/vnd.jupyter.widget-view+json": {
       "model_id": "7b4f8849274a48fe9d3d953562d19a48",
       "version_major": 2,
       "version_minor": 0
      },
      "text/plain": [
       "Figure(fig_margin={'top': 60, 'bottom': 60, 'left': 60, 'right': 60}, layout=Layout(height='500px', width='960…"
      ]
     },
     "metadata": {},
     "output_type": "display_data"
    }
   ],
   "source": [
    "g = cppyy.gbl.createGraphe()\n",
    "algo = createAlgoPcc(\"BellmanFord\", g)\n",
    "som = createNodesPCC(g)\n",
    "ar = createEdgesPCC(g)\n",
    "\n",
    "def maj(x):\n",
    "    \n",
    "    ######## SAVE ########\n",
    "    node_data_save = som\n",
    "    colors_save = colors\n",
    "    link_data_save = ar\n",
    "    \n",
    "    ####### CHANGE ########\n",
    "    graph.colors = ['black']\n",
    "    graph.node_data = list('XXXXXXX')\n",
    "    graph.link_data = [{'source': 1, 'target': 1}]\n",
    "    \n",
    "    ####### MODIF #########\n",
    "    creationColors = ['white'] * len(g.getSommets())\n",
    "    creationColors[algo.getHistorique()[x].getSommetCible().getNum()] = 'green'\n",
    "    creationColors[algo.getHistorique()[x].getSommetActuel().getNum()] = 'red'\n",
    "    \n",
    "    \n",
    "    ####### RETABLIR ########\n",
    "    graph.colors = creationColors\n",
    "    graph.node_data = node_data_save\n",
    "    graph.link_data = link_data_save\n",
    "    \n",
    "    displayCommentPCC(algo, x, \"BellmanFord\", som)\n",
    "\n",
    "    \n",
    "fig_layout = Layout(width='960px', height='500px')\n",
    "colors = ['white']\n",
    "\n",
    "graph = Graph(node_data=som, highlight_links = True, link_data=ar, link_type='line', charge=-600, colors=['white'])\n",
    "\n",
    "interact(maj, x=widgets.IntSlider(min=0, max=len(algo.getHistorique())-1, step=1, value=0))\n",
    "Figure(marks=[graph], layout=fig_layout)"
   ]
  },
  {
   "cell_type": "code",
   "execution_count": 7,
   "metadata": {},
   "outputs": [],
   "source": [
    "cx = []\n",
    "cy = []\n",
    "\n",
    "def print_event(self, target):\n",
    "    global cx\n",
    "    global cy\n",
    "    #print(target['data']['x'])\n",
    "    print(\"position enregistrée\")\n",
    "\n",
    "    #{'vx' : (target['data']['x'])}\n",
    "    cx.append(target['data']['x'])\n",
    "    cy.append(target['data']['y'])\n",
    "\n",
    "    \n",
    "graph.selected\n",
    "graph.on_element_click(print_event)"
   ]
  },
  {
   "cell_type": "code",
   "execution_count": 12,
   "metadata": {},
   "outputs": [
    {
     "name": "stdout",
     "output_type": "stream",
     "text": [
      "ATTENTION :\n",
      "N'oubliez pas d'enregistrer les positions en cliquant sur chaque sommet du graphe mobile.\n",
      "Vérifiez bien qu'il est écrit 'position enregistrée' en dessous du graphe lors de chaque clic.\n",
      "Vous devez avoir autant de message que de sommets sur le graphe mobile\n",
      "Réactualisez ensuite cette cellule. Merci.\n"
     ]
    },
    {
     "data": {
      "application/vnd.jupyter.widget-view+json": {
       "model_id": "4a6b962cabe744709f624e2d8e947d03",
       "version_major": 2,
       "version_minor": 0
      },
      "text/plain": [
       "interactive(children=(IntSlider(value=0, description='x', max=1), Output()), _dom_classes=('widget-interact',)…"
      ]
     },
     "metadata": {},
     "output_type": "display_data"
    },
    {
     "data": {
      "application/vnd.jupyter.widget-view+json": {
       "model_id": "91b5829ce49c4eb2b6567ce9486db832",
       "version_major": 2,
       "version_minor": 0
      },
      "text/plain": [
       "Figure(fig_margin={'top': 60, 'bottom': 60, 'left': 60, 'right': 60}, layout=Layout(height='500px', width='960…"
      ]
     },
     "metadata": {},
     "output_type": "display_data"
    }
   ],
   "source": [
    "node_data = som\n",
    "link_data = ar\n",
    "\n",
    "c=[]\n",
    "for i in range(len(cy)):\n",
    "    global c\n",
    "    c.append(500-cy[i])\n",
    "\n",
    "if(len(cx) < len(node_data)):\n",
    "    print(\"ATTENTION :\\nN'oubliez pas d'enregistrer les positions en cliquant sur chaque sommet du graphe mobile.\\nVérifiez bien qu'il est écrit 'position enregistrée' en dessous du graphe lors de chaque clic.\\nVous devez avoir autant de message que de sommets sur le graphe mobile\\nRéactualisez ensuite cette cellule. Merci.\")\n",
    "elif(len(cx) > len(node_data)):\n",
    "    print(\"ATTENTION :\\nTrop de sommets ont été sélectionnés.\\nVeuillez réinitialiser la cellule précédente (shift+enter), puis resélectionner tous les sommets.\\nRéactualisez ensuite cette cellule. Merci.\")\n",
    "\n",
    "graph = Graph(node_data=node_data, link_data=link_data, link_type='line',\n",
    "              colors=['orange'], directed=True, \n",
    "              scales={'x': LinearScale(), 'y': LinearScale(), 'link_color': ColorScale(scheme='Greens')}, \n",
    "              x=cx, y=c, color=np.random.rand(7))\n",
    "\n",
    "interact(maj, x=widgets.IntSlider(min=0, max=len(algo.getHistorique())-1, step=1, value=0))\n",
    "Figure(marks=[graph], layout=fig_layout)"
   ]
  },
  {
   "cell_type": "code",
   "execution_count": 13,
   "metadata": {},
   "outputs": [],
   "source": [
    "tooltip = Tooltip(fields=['label', 'foo'], formats=['', '', ''])\n",
    "graph.tooltip = tooltip"
   ]
  }
 ],
 "metadata": {
  "kernelspec": {
   "display_name": "Python 3",
   "language": "python",
   "name": "python3"
  },
  "language_info": {
   "codemirror_mode": {
    "name": "ipython",
    "version": 3
   },
   "file_extension": ".py",
   "mimetype": "text/x-python",
   "name": "python",
   "nbconvert_exporter": "python",
   "pygments_lexer": "ipython3",
   "version": "3.9.1"
  }
 },
 "nbformat": 4,
 "nbformat_minor": 4
}
